{
 "cells": [
  {
   "cell_type": "code",
   "execution_count": 21,
   "id": "6cd8d5ac-9315-4ea7-911e-713fd4bf8919",
   "metadata": {},
   "outputs": [],
   "source": [
    "from utils import *"
   ]
  },
  {
   "cell_type": "code",
   "execution_count": 22,
   "id": "2a04141e-4595-4430-906d-d48231471013",
   "metadata": {},
   "outputs": [],
   "source": [
    "n_training_qIDs = 10\n",
    "n_testing_qIDs = 20\n",
    "\n",
    "# demographic group and output type\n",
    "demographic_group = \"POLPARTY\"\n",
    "demographic = \"Republican\" # Republican, Democrat\n",
    "output_type = \"sequence\""
   ]
  },
  {
   "cell_type": "code",
   "execution_count": 23,
   "id": "45c7a190-f1a5-456f-8a9f-ea10b9e0fa71",
   "metadata": {},
   "outputs": [
    {
     "name": "stdout",
     "output_type": "stream",
     "text": [
      "Evaluating: WHYNOTBIZF2G_W36\n",
      "Evaluating: GAP21Q33_r_W82\n",
      "Evaluating: NEIGHINTERA_W32\n",
      "Evaluating: FUTRCLASSc_W41\n",
      "Evaluating: TRAITPOLMF1B_W36\n",
      "Evaluating: FUD37A_W34\n",
      "Evaluating: HIGHEDWRNGB_W36\n",
      "Evaluating: WHYNOTPOLF1C_W36\n",
      "Evaluating: GAP21Q4_f_W82\n",
      "Evaluating: ESSENPOLF1B_W36\n",
      "Evaluating: RQ4_F1Ba_W42\n",
      "Evaluating: RACESURV14_W43\n",
      "Evaluating: INFOCREATEa_W45\n",
      "Evaluating: GAP21Q19_a_W82\n",
      "Evaluating: GROWUPVIOL_W26\n",
      "Evaluating: FAMSURV23e_W50\n",
      "Evaluating: GUNTYPEOWNC_W26\n",
      "Evaluating: ROMRELDUR_W50\n",
      "Evaluating: GAP21Q31_W82\n",
      "Evaluating: BILLION_W92\n"
     ]
    },
    {
     "name": "stderr",
     "output_type": "stream",
     "text": [
      "/tmp/wuzhengx/ipykernel_3826064/2662694893.py:9: DeprecationWarning: Sampling from a set deprecated\n",
      "since Python 3.9 and will be removed in a subsequent version.\n",
      "  test_qIDs = random.sample(test_pool.keys(), n_testing_qIDs)\n"
     ]
    }
   ],
   "source": [
    "qIDs, waves = get_q_IDs_opinionqa()\n",
    "sampled_qIDs = random.sample(list(qIDs), n_training_qIDs)\n",
    "\n",
    "test_pool = get_test_questions_with_distributions(\n",
    "    seen_qIDs={}, \n",
    "    demographic_group=demographic_group,\n",
    "    demographic=demographic,\n",
    ")\n",
    "test_qIDs = random.sample(test_pool.keys(), n_testing_qIDs)\n",
    "\n",
    "k = 1\n",
    "probabilities_list = []\n",
    "for test_qID in test_qIDs:\n",
    "    print(\"Evaluating:\", test_qID)\n",
    "    # test_qID = \"ECON5_d_W54\"\n",
    "    n = (sum(test_pool[test_qID][demographic].values()))\n",
    "    MC_options = list(test_pool[test_qID][demographic].keys())\n",
    "    all_options, probs = [], []\n",
    "    for i, option in enumerate(MC_options):\n",
    "        all_options.append(options[i])\n",
    "        probs.append(test_pool[test_qID][demographic][option]/n)\n",
    "    golden_dist = dict(zip(all_options, probs))\n",
    "    # print(\"Golden dist:\")\n",
    "    # print(golden_dist)\n",
    "    probabilities = {}\n",
    "    for i, option in enumerate(MC_options):\n",
    "        probabilities[options[i]] = 1.0/len(MC_options)\n",
    "    for _ in range(k):\n",
    "        probabilities_list.append([golden_dist, probabilities])"
   ]
  },
  {
   "cell_type": "code",
   "execution_count": 24,
   "id": "0ae6e25b-001e-47a9-a2c4-7102d44253a9",
   "metadata": {},
   "outputs": [
    {
     "data": {
      "text/plain": [
       "0.7640064188386997"
      ]
     },
     "execution_count": 24,
     "metadata": {},
     "output_type": "execute_result"
    }
   ],
   "source": [
    "distances = compute_l1_values(probabilities_list)\n",
    "json.dump(distances, open(\"distance_random.json\", \"w\"))\n",
    "np.mean(distances)"
   ]
  },
  {
   "cell_type": "code",
   "execution_count": 25,
   "id": "2f3ce20b-a6ce-4052-91f1-288ac23f456a",
   "metadata": {},
   "outputs": [],
   "source": [
    "json.dump(sampled_qIDs, open(\"train_qIDs.json\", \"w\"))\n",
    "json.dump(test_qIDs, open(\"test_qIDs.json\", \"w\"))"
   ]
  },
  {
   "cell_type": "code",
   "execution_count": null,
   "id": "e6645958-d14a-4f9a-8830-8deb9af2925e",
   "metadata": {},
   "outputs": [],
   "source": []
  }
 ],
 "metadata": {
  "kernelspec": {
   "display_name": "Python 3 (ipykernel)",
   "language": "python",
   "name": "python3"
  },
  "language_info": {
   "codemirror_mode": {
    "name": "ipython",
    "version": 3
   },
   "file_extension": ".py",
   "mimetype": "text/x-python",
   "name": "python",
   "nbconvert_exporter": "python",
   "pygments_lexer": "ipython3",
   "version": "3.10.13"
  }
 },
 "nbformat": 4,
 "nbformat_minor": 5
}
